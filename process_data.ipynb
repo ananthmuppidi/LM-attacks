{
 "cells": [
  {
   "cell_type": "code",
   "execution_count": 2,
   "metadata": {},
   "outputs": [
    {
     "data": {
      "text/plain": [
       "['original_text',\n",
       " 'perturbed_text',\n",
       " 'original_score',\n",
       " 'perturbed_score',\n",
       " 'original_output',\n",
       " 'perturbed_output',\n",
       " 'ground_truth_output',\n",
       " 'num_queries',\n",
       " 'result_type']"
      ]
     },
     "execution_count": 2,
     "metadata": {},
     "output_type": "execute_result"
    }
   ],
   "source": [
    "import csv\n",
    "\n",
    "def read_csv_file(file_path):\n",
    "    data = []\n",
    "    headers = []\n",
    "    with open(file_path, 'r') as file:\n",
    "        csv_reader = csv.reader(file)\n",
    "        headers = next(csv_reader)  # Read the headers\n",
    "        for row in csv_reader:\n",
    "            data.append(row)\n",
    "    return headers, data\n",
    "\n",
    "file_path = './data/attacks/hotflip-dataset.data'\n",
    "headers, data = read_csv_file(file_path)\n",
    "headers"
   ]
  },
  {
   "cell_type": "code",
   "execution_count": 3,
   "metadata": {},
   "outputs": [],
   "source": [
    "dataset = []\n",
    "for dp in data:\n",
    "    if dp[8] == \"Successful\":\n",
    "        dp[0] = dp[0].replace('[', '').replace(']', '')\n",
    "        dp[1] = dp[1].replace('[', '').replace(']', '')\n",
    "        dataset.append([dp[0], 0])\n",
    "        dataset.append([dp[1], 1])"
   ]
  },
  {
   "cell_type": "code",
   "execution_count": 4,
   "metadata": {},
   "outputs": [],
   "source": [
    "import csv\n",
    "\n",
    "file_path = './data/attack_clean/hotflip-dataset.csv'\n",
    "\n",
    "with open(file_path, 'w', newline='') as file:\n",
    "    writer = csv.writer(file)\n",
    "    writer.writerows(dataset)"
   ]
  },
  {
   "cell_type": "code",
   "execution_count": null,
   "metadata": {},
   "outputs": [],
   "source": []
  }
 ],
 "metadata": {
  "kernelspec": {
   "display_name": "Python 3",
   "language": "python",
   "name": "python3"
  },
  "language_info": {
   "codemirror_mode": {
    "name": "ipython",
    "version": 3
   },
   "file_extension": ".py",
   "mimetype": "text/x-python",
   "name": "python",
   "nbconvert_exporter": "python",
   "pygments_lexer": "ipython3",
   "version": "3.11.7"
  }
 },
 "nbformat": 4,
 "nbformat_minor": 2
}
